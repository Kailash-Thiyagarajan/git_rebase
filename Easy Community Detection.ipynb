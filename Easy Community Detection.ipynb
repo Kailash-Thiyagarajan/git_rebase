{
 "cells": [
  {
   "cell_type": "code",
   "execution_count": 62,
   "metadata": {},
   "outputs": [],
   "source": [
    "import networkx as nx\n",
    "import numpy as np\n",
    "import matplotlib.pyplot as plt"
   ]
  },
  {
   "cell_type": "code",
   "execution_count": 63,
   "metadata": {},
   "outputs": [
    {
     "data": {
      "image/png": "[encoded data removed]",
      "text/plain": [
       "<Figure size 432x288 with 1 Axes>"
      ]
     },
     "metadata": {},
     "output_type": "display_data"
    }
   ],
   "source": [
    "G = nx.Graph()\n",
    "G.add_edges_from([[1,2], [2,3], [1,3], [1,4], [1,5], [3,5],\n",
    "                  [6,7], [7,8], [8,9], [6,9], [6,8], [7,9],\n",
    "                  [10,11], [11,12], [10,12],\n",
    "                  [9,12], [2,7]])\n",
    "nx.draw(G, with_labels=True, node_color='r')"
   ]
  },
  {
   "cell_type": "code",
   "execution_count": 64,
   "metadata": {},
   "outputs": [
    {
     "data": {
      "text/plain": [
       "0.4090909090909091"
      ]
     },
     "execution_count": 64,
     "metadata": {},
     "output_type": "execute_result"
    }
   ],
   "source": [
    "TOT_PAIRS = (12*11)/2\n",
    "27 / TOT_PAIRS"
   ]
  },
  {
   "cell_type": "code",
   "execution_count": null,
   "metadata": {},
   "outputs": [],
   "source": [
    "# Added first change"
   ]
  },
  {
   "cell_type": "code",
   "execution_count": 65,
   "metadata": {},
   "outputs": [
    {
     "data": {
      "text/plain": [
       "(2, 7)"
      ]
     },
     "execution_count": 65,
     "metadata": {},
     "output_type": "execute_result"
    }
   ],
   "source": [
    "edge_betwenness = nx.edge_betweenness_centrality(G).items()\n",
    "sorted(edge_betwenness, key=lambda pair: -pair[1])[0][0]"
   ]
  },
  {
   "cell_type": "code",
   "execution_count": 66,
   "metadata": {
    "scrolled": false
   },
   "outputs": [
    {
     "name": "stdout",
     "output_type": "stream",
     "text": [
      "(2, 7)\n",
      "[[1, 3, 2], [3, 3, 2], [6, 4, 3], [8, 4, 3], [9, 4, 3]]\n"
     ]
    }
   ],
   "source": [
    "NUM_ITERATIONS = 1\n",
    "res = []\n",
    "for i in range(NUM_ITERATIONS):\n",
    "    edge_betweenness = nx.edge_betweenness_centrality(G).items()\n",
    "    edge_to_delete = sorted(edge_betweenness, key=lambda pair: -pair[1])[0][0]\n",
    "    print(edge_to_delete)\n",
    "    orig_G = G.copy()\n",
    "    \n",
    "    G.remove_edge(*edge_to_delete)\n",
    "    for edge_del in edge_to_delete:\n",
    "        for neighbor in G.neighbors(edge_del):\n",
    "            degree_diff = [neighbor, orig_G.degree(edge_del), G.degree(edge_del)]\n",
    "            res.append(degree_diff)\n",
    "\n",
    "print(res)\n",
    "\n",
    "\n",
    "    \n",
    "    # nx.draw(G, with_labels=True, node_color='r')\n",
    "    # plt.title('Step %s\\nEdge %s Deleted'%(i, edge_to_delete), fontsize=20)\n",
    "    \n",
    "    # plt.show()\n",
    "    "
   ]
  },
  {
   "cell_type": "code",
   "execution_count": null,
   "metadata": {},
   "outputs": [],
   "source": []
  }
 ],
 "metadata": {
  "interpreter": {
   "hash": "bba99eda1451dbcd9cb0c4abb0e0324cdae77975550d886a5a16a7ed2e08a336"
  },
  "kernelspec": {
   "display_name": "Python 3.8.13 ('torch_env')",
   "language": "python",
   "name": "python3"
  },
  "language_info": {
   "codemirror_mode": {
    "name": "ipython",
    "version": 3
   },
   "file_extension": ".py",
   "mimetype": "text/x-python",
   "name": "python",
   "nbconvert_exporter": "python",
   "pygments_lexer": "ipython3",
   "version": "3.8.13"
  }
 },
 "nbformat": 4,
 "nbformat_minor": 4
}
